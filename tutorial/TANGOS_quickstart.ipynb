{
 "cells": [
  {
   "cell_type": "markdown",
   "metadata": {
    "id": "8mgNk6CZwB2r"
   },
   "source": [
    "[![open in colab](https://colab.research.google.com/assets/colab-badge.svg)](https://colab.research.google.com/github/alanjeffares/TANGOS/blob/main/TANGOS_quickstart.ipynb)"
   ]
  },
  {
   "cell_type": "markdown",
   "metadata": {
    "id": "zorOJBNUG7Cr"
   },
   "source": [
    "# TANGOS quickstart guide\n",
    "This script provides a simple example of applying TANGOS as a drop in regularizer in a standard pytorch workflow. We begin by defining a dataloader and a simple MLP architecture before providing a straightforward function for calculating the two TANGOS loss terms - specialization loss and orthogonalization loss. We then provide an example of this loss being applied to train a model in a standard training loop."
   ]
  },
  {
   "cell_type": "code",
   "execution_count": 1,
   "metadata": {
    "id": "2FGTU5LWGYXR"
   },
   "outputs": [],
   "source": [
    "# !pip install functorch\n",
    "from functorch import jacrev\n",
    "from functorch import vmap\n",
    "import pandas as pd\n",
    "from sklearn.model_selection import train_test_split\n",
    "from sklearn.preprocessing import StandardScaler\n",
    "from torch.utils.data import DataLoader, TensorDataset\n",
    "import torch\n",
    "import torch.nn as nn\n",
    "from torch import optim\n",
    "import numpy as np\n",
    "import matplotlib.pyplot as plt\n",
    "from typing import Callable"
   ]
  },
  {
   "cell_type": "code",
   "execution_count": 2,
   "metadata": {
    "id": "uJ3SBBJmGkPX"
   },
   "outputs": [],
   "source": [
    "# download a dataset from the UCI repository\n",
    "# !wget https://archive.ics.uci.edu/ml/machine-learning-databases/00510/Grisoni_et_al_2016_EnvInt88.csv"
   ]
  },
  {
   "cell_type": "markdown",
   "metadata": {
    "id": "1MJLYMjnGyFK"
   },
   "source": [
    "## First define a simple data loader "
   ]
  },
  {
   "cell_type": "code",
   "execution_count": 3,
   "metadata": {
    "id": "ACmrnDmbGxUN"
   },
   "outputs": [],
   "source": [
    "# a data loader for the data\n",
    "def load_bioconcentration(seed, train_prop=0.8, batch_size=64):\n",
    "    \"\"\"Returns dataloaders for the bioconcentration dataset\"\"\"\n",
    "    data = pd.read_csv(\"Grisoni_et_al_2016_EnvInt88.csv\", sep=\",\")\n",
    "\n",
    "    # apply onehotencoding where appropriate\n",
    "    X = data[\n",
    "        [\n",
    "            \"nHM\",\n",
    "            \"piPC09\",\n",
    "            \"PCD\",\n",
    "            \"X2Av\",\n",
    "            \"MLOGP\",\n",
    "            \"ON1V\",\n",
    "            \"N-072\",\n",
    "            \"B02[C-N]\",\n",
    "            \"F04[C-O]\",\n",
    "        ]\n",
    "    ]\n",
    "    for var in [\"nHM\", \"N-072\", \"B02[C-N]\", \"F04[C-O]\"]:\n",
    "        one_hot = pd.get_dummies(X[var], prefix=var)  # onehotencode categorical columns\n",
    "        X = X.drop(var, axis=1)\n",
    "        X = X.join(one_hot)\n",
    "\n",
    "    y = data[\"logBCF\"]\n",
    "    X, y = X.to_numpy(), y.to_numpy()\n",
    "\n",
    "    # split data\n",
    "    X_train, X_test, y_train, y_test = train_test_split(\n",
    "        X, y, train_size=train_prop, random_state=seed\n",
    "    )\n",
    "\n",
    "    # rescale data\n",
    "    X_scaler = StandardScaler()\n",
    "    X_train = X_scaler.fit_transform(X_train)\n",
    "    X_test = X_scaler.transform(X_test)\n",
    "    y_scaler = StandardScaler()\n",
    "    y_train = y_scaler.fit_transform(y_train.reshape(-1, 1)).reshape(-1)\n",
    "    y_test = y_scaler.transform(y_test.reshape(-1, 1)).reshape(-1)\n",
    "\n",
    "    train_dataset = TensorDataset(torch.Tensor(X_train), torch.Tensor(y_train))\n",
    "    test_dataset = TensorDataset(torch.Tensor(X_test), torch.Tensor(y_test))\n",
    "\n",
    "    loaders = {\n",
    "        \"train\": DataLoader(\n",
    "            train_dataset, batch_size=batch_size, shuffle=True, num_workers=1\n",
    "        ),\n",
    "        \"test\": DataLoader(\n",
    "            test_dataset, batch_size=batch_size, shuffle=False, num_workers=1\n",
    "        ),\n",
    "    }\n",
    "    return loaders"
   ]
  },
  {
   "cell_type": "markdown",
   "metadata": {
    "id": "b5nbQ-5ZdV7y"
   },
   "source": [
    "# Next design a simple MLP architecture"
   ]
  },
  {
   "cell_type": "code",
   "execution_count": 4,
   "metadata": {
    "id": "aFjcO1xHHhvM"
   },
   "outputs": [],
   "source": [
    "class SimpleMLP(nn.Module):\n",
    "    def __init__(self, num_features):\n",
    "        super(SimpleMLP, self).__init__()\n",
    "        d = num_features + 1\n",
    "        num_outputs = 1\n",
    "        self.fc1 = nn.Linear(num_features, d)\n",
    "        self.bn1 = nn.BatchNorm1d(d)\n",
    "        self.relu1 = nn.ReLU(inplace=False)\n",
    "        self.fc2 = nn.Linear(d, d)\n",
    "        self.bn2 = nn.BatchNorm1d(d)\n",
    "        self.relu2 = nn.ReLU(inplace=False)\n",
    "        self.fc3 = nn.Linear(d, num_outputs)\n",
    "\n",
    "    def forward(self, x):\n",
    "        out = self.fc1(x)\n",
    "        out = self.relu1(out)\n",
    "        out = self.fc2(out)\n",
    "        h_output = self.relu2(out)\n",
    "        out = self.fc3(h_output)\n",
    "        return (\n",
    "            out,\n",
    "            h_output,\n",
    "        )  # note that we ensure the model outputs both predictions and a latent representation"
   ]
  },
  {
   "cell_type": "markdown",
   "metadata": {
    "id": "S29uMPHFdkLR"
   },
   "source": [
    "# Finally, we define a drop in function that calculates the TANGOS loss - outputting both the specialization and the orthogonalization components."
   ]
  },
  {
   "cell_type": "code",
   "execution_count": 5,
   "metadata": {
    "id": "8FEPP5KKH9bt"
   },
   "outputs": [],
   "source": [
    "def TANGOS_loss(\n",
    "    forward_func: Callable,\n",
    "    data_input: torch.tensor,\n",
    "    subsample: int = 50,\n",
    "    device: str = \"cpu\",\n",
    "):\n",
    "    \"\"\"\n",
    "    A drop in function for calculating the TANGOS regularization loss. The loss\n",
    "    consists of two components (specialization and orthogonalization) which are\n",
    "    described in more detail in the main paper.\n",
    "\n",
    "    Args:\n",
    "        forward_func (Callable): The forward function from a pytorch model with\n",
    "            an output tuple consisting of (_, latent_representation).\n",
    "        data_input (torch.tensor): A batch of data.\n",
    "        subsample (int): Number of pairs to subsample for the orthogonalization\n",
    "            component.\n",
    "        device (str): Indicating what device to run on.\n",
    "\n",
    "    Returns:\n",
    "        tuple containing the specialization loss and the orthogonalization loss\n",
    "            both in torch tensor format.\n",
    "    \"\"\"\n",
    "\n",
    "    batch_size = data_input.shape[0]\n",
    "\n",
    "    def wrapper(input_):\n",
    "        \"\"\"A simple wrapper required by functools\"\"\"\n",
    "        _, h_out = forward_func(input_)\n",
    "        return h_out\n",
    "\n",
    "    data_input = data_input.clone().requires_grad_(True)\n",
    "    jacobian = vmap(jacrev(wrapper))(data_input)\n",
    "    neuron_attr = jacobian.swapaxes(0, 1)\n",
    "    h_dim = neuron_attr.shape[0]\n",
    "\n",
    "    if len(neuron_attr.shape) > 3:\n",
    "        # h_dim x batch_size x features\n",
    "        neuron_attr = neuron_attr.flatten(start_dim=2)\n",
    "\n",
    "    # calculate specialization loss component\n",
    "    spec_loss = torch.norm(neuron_attr, p=1) / (\n",
    "        batch_size * h_dim * neuron_attr.shape[2]\n",
    "    )\n",
    "\n",
    "    cos = nn.CosineSimilarity(dim=1, eps=1e-6)\n",
    "    orth_loss = torch.tensor(0.0, requires_grad=True).to(device)\n",
    "\n",
    "    # apply subsampling routine for orthogonalization loss\n",
    "    if subsample > 0 and subsample < h_dim * (h_dim - 1) / 2:\n",
    "        tensor_pairs = [\n",
    "            list(np.random.choice(h_dim, size=(2), replace=False))\n",
    "            for i in range(subsample)\n",
    "        ]\n",
    "        for tensor_pair in tensor_pairs:\n",
    "            pairwise_corr = cos(\n",
    "                neuron_attr[tensor_pair[0], :, :], neuron_attr[tensor_pair[1], :, :]\n",
    "            ).norm(p=1)\n",
    "            orth_loss = orth_loss + pairwise_corr\n",
    "\n",
    "        orth_loss = orth_loss / (batch_size * subsample)\n",
    "\n",
    "    else:\n",
    "        for neuron_i in range(1, h_dim):\n",
    "            for neuron_j in range(0, neuron_i):\n",
    "                pairwise_corr = cos(\n",
    "                    neuron_attr[neuron_i, :, :], neuron_attr[neuron_j, :, :]\n",
    "                ).norm(p=1)\n",
    "                orth_loss = orth_loss + pairwise_corr\n",
    "        num_pairs = h_dim * (h_dim - 1) / 2\n",
    "        orth_loss = orth_loss / (batch_size * num_pairs)\n",
    "\n",
    "    return spec_loss, orth_loss"
   ]
  },
  {
   "cell_type": "markdown",
   "metadata": {
    "id": "Rr1EkGx4okOr"
   },
   "source": [
    "# Train a model with TANGOS regularization and another with L2 regularization. "
   ]
  },
  {
   "cell_type": "code",
   "execution_count": 6,
   "metadata": {
    "id": "P-Ky9Km1H3sQ"
   },
   "outputs": [],
   "source": [
    "# set seed for reproducablility\n",
    "torch.manual_seed(0)\n",
    "torch.cuda.manual_seed(0)\n",
    "np.random.seed(0)\n",
    "\n",
    "loss_func = nn.MSELoss()\n",
    "data = load_bioconcentration(0)\n",
    "train_loader = data[\"train\"]\n",
    "val_loader = data[\"test\"]\n",
    "\n",
    "lambda_1, lambda_2 = 100, 0.1\n",
    "lr = 0.001\n",
    "device = 'cuda' if torch.cuda.is_available() else 'cpu'\n",
    "n_epochs = 100\n",
    "\n",
    "# instantiate models and optimimizers\n",
    "TANGOS_model = SimpleMLP(num_features=45).to(device)\n",
    "L2_model = SimpleMLP(num_features=45).to(device)\n",
    "TANGOS_optimiser = optim.Adam(TANGOS_model.parameters(), lr=lr, weight_decay=0)\n",
    "L2_optimiser = optim.Adam(L2_model.parameters(), lr=lr, weight_decay=0.1)\n",
    "\n",
    "TANGOS_train_loss_ls = []\n",
    "L2_train_loss_ls = []\n",
    "TANGOS_val_loss_ls = []\n",
    "L2_val_loss_ls = []\n",
    "\n",
    "for epoch in range(n_epochs):\n",
    "    TANGOS_running_loss = 0\n",
    "    L2_running_loss = 0\n",
    "    # training epoch\n",
    "    for data, label in train_loader:\n",
    "        TANGOS_model.train()\n",
    "        L2_model.train()\n",
    "        data, label = data.to(device), label.to(device)\n",
    "        TANGOS_optimiser.zero_grad()\n",
    "        L2_optimiser.zero_grad()\n",
    "\n",
    "        # forward and backward pass for TANGOS model\n",
    "        TANGOS_output, _ = TANGOS_model(data)\n",
    "        MSE_loss = loss_func(TANGOS_output.squeeze(), label)\n",
    "\n",
    "        spec_loss, orth_loss = TANGOS_loss(\n",
    "            TANGOS_model, data, subsample=50, device=device\n",
    "        )  # calculate TANGOS loss\n",
    "        TANGOS_reg_loss = (\n",
    "            lambda_1 * spec_loss + lambda_2 * orth_loss\n",
    "        )  # weight the two terms\n",
    "        TANGOS_loss_val = MSE_loss + TANGOS_reg_loss  # add TANGOS loss to MSE loss\n",
    "\n",
    "        TANGOS_running_loss += MSE_loss.item()\n",
    "        TANGOS_loss_val.backward()\n",
    "        TANGOS_optimiser.step()\n",
    "\n",
    "        # forward and backward pass for L2 model\n",
    "        L2_output, _ = L2_model(data)\n",
    "        MSE_loss = loss_func(L2_output.squeeze(), label)\n",
    "\n",
    "        L2_running_loss += MSE_loss.item()\n",
    "        MSE_loss.backward()\n",
    "        L2_optimiser.step()\n",
    "\n",
    "    TANGOS_train_loss_ls.append(TANGOS_running_loss)\n",
    "    L2_train_loss_ls.append(L2_running_loss)\n",
    "\n",
    "    TANGOS_running_val_loss = 0\n",
    "    L2_running_val_loss = 0\n",
    "    # validation epoch\n",
    "    for data, label in val_loader:\n",
    "        TANGOS_model.eval()\n",
    "        L2_model.eval()\n",
    "        data, label = data.to(device), label.to(device)\n",
    "\n",
    "        # evaluate TANGOS model\n",
    "        TANGOS_output, _ = TANGOS_model(data)\n",
    "        TANGOS_reg_loss = loss_func(TANGOS_output.squeeze(), label)\n",
    "        TANGOS_running_val_loss += TANGOS_reg_loss.item()\n",
    "\n",
    "        # evaluate l2 model\n",
    "        L2_output, _ = L2_model(data)\n",
    "        L2_loss = loss_func(L2_output.squeeze(), label)\n",
    "        L2_running_val_loss += L2_loss.item()\n",
    "\n",
    "    TANGOS_val_loss_ls.append(TANGOS_running_val_loss)\n",
    "    L2_val_loss_ls.append(L2_running_val_loss)"
   ]
  },
  {
   "cell_type": "markdown",
   "metadata": {
    "id": "Yu_PgrtZow1w"
   },
   "source": [
    "# Plot the training and validation loss plots"
   ]
  },
  {
   "cell_type": "code",
   "execution_count": 7,
   "metadata": {
    "colab": {
     "base_uri": "https://localhost:8080/",
     "height": 295
    },
    "id": "PubGcagQJj5_",
    "outputId": "9e253623-9b5b-4cb9-88f3-759dfe2972a5"
   },
   "outputs": [
    {
     "data": {
      "image/png": "[encoded data removed]",
      "text/plain": [
       "<Figure size 1500x400 with 2 Axes>"
      ]
     },
     "metadata": {},
     "output_type": "display_data"
    }
   ],
   "source": [
    "plt.figure(figsize=(15, 4))\n",
    "\n",
    "plt.subplot(1, 2, 1)\n",
    "plt.title(\"Train Loss\")\n",
    "plt.plot(TANGOS_train_loss_ls, label=\"TANGOS\")\n",
    "plt.plot(L2_train_loss_ls, label=\"L2\")\n",
    "plt.xlabel(\"Epochs\")\n",
    "plt.ylabel(\"Loss\")\n",
    "plt.ylim(1.5, 6)\n",
    "plt.legend()\n",
    "\n",
    "plt.subplot(1, 2, 2)\n",
    "plt.title(\"Val Loss\")\n",
    "plt.plot(TANGOS_val_loss_ls, label=\"TANGOS\")\n",
    "plt.plot(L2_val_loss_ls, label=\"L2\")\n",
    "plt.legend()\n",
    "plt.xlabel(\"Epochs\")\n",
    "plt.ylabel(\"Loss\")\n",
    "plt.ylim(0.6, 1.8)\n",
    "plt.show()"
   ]
  }
 ],
 "metadata": {
  "accelerator": "GPU",
  "colab": {
   "provenance": []
  },
  "gpuClass": "standard",
  "kernelspec": {
   "display_name": "tangos2",
   "language": "python",
   "name": "python3"
  },
  "language_info": {
   "codemirror_mode": {
    "name": "ipython",
    "version": 3
   },
   "file_extension": ".py",
   "mimetype": "text/x-python",
   "name": "python",
   "nbconvert_exporter": "python",
   "pygments_lexer": "ipython3",
   "version": "3.8.16"
  },
  "vscode": {
   "interpreter": {
    "hash": "717a02a521045f09b91657a57f01661f403c22687f6b8235a8b56612a51ec2b7"
   }
  }
 },
 "nbformat": 4,
 "nbformat_minor": 0
}
